{
 "cells": [
  {
   "cell_type": "code",
   "execution_count": 25,
   "metadata": {},
   "outputs": [],
   "source": [
    "import glob\n",
    "import os , os.path\n",
    "import random\n",
    "import shutil"
   ]
  },
  {
   "cell_type": "code",
   "execution_count": 26,
   "metadata": {},
   "outputs": [],
   "source": [
    "#recordフォルダのjsonファイルを取得する\n",
    "path = './record_data/*.json'\n",
    "#jsonファイルを取得する\n",
    "flist = glob.glob(path)"
   ]
  },
  {
   "cell_type": "code",
   "execution_count": 27,
   "metadata": {},
   "outputs": [
    {
     "name": "stdout",
     "output_type": "stream",
     "text": [
      "CPU times: user 7.02 ms, sys: 67.3 ms, total: 74.3 ms\n",
      "Wall time: 125 ms\n"
     ]
    }
   ],
   "source": [
    "%%time\n",
    "#ファイル名を一括変更\n",
    "for file in flist:\n",
    "    \n",
    "    #乱数生成\n",
    "    rantime = random.uniform(1000,9999)\n",
    "    num = random.uniform(1000,99999)\n",
    "    \n",
    "    os.rename(file,'./record_data/record_156344' + str(int(rantime)) +'_'+ str(int(num)) + '.json')\n",
    "   \n",
    "    #print(file)\n"
   ]
  },
  {
   "cell_type": "code",
   "execution_count": 28,
   "metadata": {},
   "outputs": [],
   "source": [
    "#dummy_record_dataディレクトリにコピーする\n",
    "for file in flist:\n",
    "    try:\n",
    "        new_file_path = file.replace('./record_data/','./dummy_record_data/')\n",
    "        shutil.copy(file, new_file_path)\n",
    "        \n",
    "    except FileNotFoundError:\n",
    "        pass\n",
    "    \n",
    "    except OSError:\n",
    "        pass"
   ]
  },
  {
   "cell_type": "code",
   "execution_count": 29,
   "metadata": {},
   "outputs": [
    {
     "name": "stdout",
     "output_type": "stream",
     "text": [
      "変更後\n",
      "288\n",
      "288\n"
     ]
    }
   ],
   "source": [
    "list = os.listdir('./dummy_record_data')\n",
    "list2 = os.listdir('./record_data')\n",
    "print('変更後')\n",
    "print(len(list))\n",
    "print(len(list2))"
   ]
  },
  {
   "cell_type": "code",
   "execution_count": null,
   "metadata": {},
   "outputs": [],
   "source": []
  }
 ],
 "metadata": {
  "kernelspec": {
   "display_name": "Python 3",
   "language": "python",
   "name": "python3"
  },
  "language_info": {
   "codemirror_mode": {
    "name": "ipython",
    "version": 3
   },
   "file_extension": ".py",
   "mimetype": "text/x-python",
   "name": "python",
   "nbconvert_exporter": "python",
   "pygments_lexer": "ipython3",
   "version": "3.7.4"
  }
 },
 "nbformat": 4,
 "nbformat_minor": 4
}

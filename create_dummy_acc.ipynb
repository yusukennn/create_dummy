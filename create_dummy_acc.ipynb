{
 "cells": [
  {
   "cell_type": "code",
   "execution_count": 6,
   "metadata": {},
   "outputs": [],
   "source": [
    "import glob\n",
    "import os , os.path\n",
    "import random\n",
    "import shutil"
   ]
  },
  {
   "cell_type": "code",
   "execution_count": 7,
   "metadata": {},
   "outputs": [],
   "source": [
    "#拡張子.csvのファイルを取得する\n",
    "path = './acc_data/*.csv'"
   ]
  },
  {
   "cell_type": "code",
   "execution_count": 8,
   "metadata": {},
   "outputs": [],
   "source": [
    "#csvファイルを取得する\n",
    "flist = glob.glob(path)"
   ]
  },
  {
   "cell_type": "code",
   "execution_count": 9,
   "metadata": {},
   "outputs": [
    {
     "name": "stdout",
     "output_type": "stream",
     "text": [
      "CPU times: user 542 ms, sys: 15.1 s, total: 15.7 s\n",
      "Wall time: 17.9 s\n"
     ]
    }
   ],
   "source": [
    "%%time\n",
    "#ファイル名を一括変更\n",
    "for file in flist:\n",
    "    \n",
    "    #乱数生成\n",
    "    rantime = random.uniform(1000,9999)\n",
    "    num = random.uniform(1000,99999)\n",
    "    \n",
    "    os.rename(file,'./acc_data/acc_156344' + str(int(rantime)) +'_'+ str(int(num)) + '.csv')\n",
    "   \n",
    "    #print(file)\n"
   ]
  },
  {
   "cell_type": "code",
   "execution_count": 98,
   "metadata": {},
   "outputs": [],
   "source": [
    "#dummy_accディレクトリにコピーする\n",
    "for file in flist:\n",
    "    try:\n",
    "        new_file_path = file.replace('./acc_data/','./dummy_data/')\n",
    "        shutil.copy(file, new_file_path)\n",
    "        \n",
    "    except FileNotFoundError:\n",
    "        pass\n",
    "    \n",
    "    except OSError:\n",
    "        pass"
   ]
  },
  {
   "cell_type": "code",
   "execution_count": 10,
   "metadata": {},
   "outputs": [
    {
     "name": "stdout",
     "output_type": "stream",
     "text": [
      "変更後\n",
      "39744\n",
      "39742\n"
     ]
    }
   ],
   "source": [
    "list = os.listdir('./dummy_acc')\n",
    "list2 = os.listdir('./acc_data')\n",
    "print('変更後')\n",
    "print(len(list))\n",
    "print(len(list2))"
   ]
  },
  {
   "cell_type": "code",
   "execution_count": null,
   "metadata": {},
   "outputs": [],
   "source": []
  }
 ],
 "metadata": {
  "kernelspec": {
   "display_name": "Python 3",
   "language": "python",
   "name": "python3"
  },
  "language_info": {
   "codemirror_mode": {
    "name": "ipython",
    "version": 3
   },
   "file_extension": ".py",
   "mimetype": "text/x-python",
   "name": "python",
   "nbconvert_exporter": "python",
   "pygments_lexer": "ipython3",
   "version": "3.7.4"
  }
 },
 "nbformat": 4,
 "nbformat_minor": 4
}

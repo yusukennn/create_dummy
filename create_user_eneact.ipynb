{
 "cells": [
  {
   "cell_type": "code",
   "execution_count": 43,
   "metadata": {},
   "outputs": [],
   "source": [
    "\n",
    "from selenium import webdriver\n",
    "from selenium.webdriver.chrome.options import Options\n",
    "import chromedriver_binary\n",
    "import time\n",
    "from selenium.webdriver.common.by import By\n",
    "from selenium.webdriver.support.ui import WebDriverWait\n",
    "from selenium.webdriver.support import expected_conditions as EC"
   ]
  },
  {
   "cell_type": "code",
   "execution_count": 44,
   "metadata": {},
   "outputs": [],
   "source": [
    "#ヘッドレスモードに設定\n",
    "options = Options()\n",
    "# options.add_argument('--headless')\n",
    "#ログイン画面にアクセス\n",
    "login_url = \"https://dev-eneact.demoact.net/\"\n",
    "driver = webdriver.Chrome(options = options)\n",
    "driver.get(login_url)"
   ]
  },
  {
   "cell_type": "code",
   "execution_count": 45,
   "metadata": {},
   "outputs": [
    {
     "data": {
      "text/plain": [
       "<selenium.webdriver.remote.webelement.WebElement (session=\"393b4c6e947ab73c0237151a10fa2cb2\", element=\"629ed861-cd78-4b9c-9838-87fd9406fc1f\")>"
      ]
     },
     "execution_count": 45,
     "metadata": {},
     "output_type": "execute_result"
    }
   ],
   "source": [
    "#ログイン画面のID=\"email\"が取得可能になるまで待つ\n",
    "wait = WebDriverWait(driver,20)\n",
    "wait.until(\n",
    "    EC.presence_of_element_located((By.ID,\"email\"))\n",
    ")\n"
   ]
  },
  {
   "cell_type": "code",
   "execution_count": 46,
   "metadata": {},
   "outputs": [],
   "source": [
    "#id,passの入力\n",
    "login_mail = \"nishimu.sys@gmail.com\"\n",
    "login_pass = \"sozolabsozolab\"\n",
    "user_id = driver.find_element_by_id(\"email\")\n",
    "user_id.send_keys(login_mail)\n",
    "password = driver.find_element_by_name(\"password\")\n",
    "password.send_keys(login_pass)"
   ]
  },
  {
   "cell_type": "code",
   "execution_count": 47,
   "metadata": {},
   "outputs": [],
   "source": [
    "#ログインボタンクリック\n",
    "login_button = driver.find_element_by_class_name(\"btn.btn-primary\")\n",
    "login_button.click()"
   ]
  },
  {
   "cell_type": "code",
   "execution_count": 48,
   "metadata": {},
   "outputs": [],
   "source": [
    "#ユーザー作成画面に遷移\n",
    "driver.get(\"https://dev-eneact.demoact.net/users/create\")"
   ]
  },
  {
   "cell_type": "code",
   "execution_count": 51,
   "metadata": {},
   "outputs": [
    {
     "data": {
      "text/plain": [
       "<selenium.webdriver.remote.webelement.WebElement (session=\"393b4c6e947ab73c0237151a10fa2cb2\", element=\"69fe4698-ab06-4f97-bc89-b445246c83ee\")>"
      ]
     },
     "execution_count": 51,
     "metadata": {},
     "output_type": "execute_result"
    }
   ],
   "source": [
    "wait = WebDriverWait(driver,20)\n",
    "wait.until(\n",
    "    EC.presence_of_element_located((By.NAME,\"name\"))\n",
    ")\n"
   ]
  },
  {
   "cell_type": "code",
   "execution_count": 52,
   "metadata": {},
   "outputs": [],
   "source": [
    "#ユーザー名，メールアドレス，パスワードをフォームに入力\n",
    "name = \"hogehoge\"\n",
    "email = \"hoge@gmail.com\"\n",
    "password =\"hogehogehoge\"\n",
    "name_input = driver.find_element_by_name(\"name\")\n",
    "name_input.send_keys(name)\n",
    "email_input = driver.find_element_by_name(\"email\")\n",
    "email_input.send_keys(email)\n",
    "pass_input = driver.find_element_by_name(\"password\")\n",
    "pass_input.send_keys(password)\n",
    "pass_conf_input = driver.find_element_by_name(\"password_confirmation\")\n",
    "pass_conf_input.send_keys(password)\n",
    "\n"
   ]
  },
  {
   "cell_type": "code",
   "execution_count": null,
   "metadata": {},
   "outputs": [],
   "source": [
    "#保存ボタンを押す\n",
    "login_button = driver.find_element_by_class_name(\"btn.btn-success\")\n",
    "login_button.click()"
   ]
  }
 ],
 "metadata": {
  "kernelspec": {
   "display_name": "Python 3",
   "language": "python",
   "name": "python3"
  },
  "language_info": {
   "codemirror_mode": {
    "name": "ipython",
    "version": 3
   },
   "file_extension": ".py",
   "mimetype": "text/x-python",
   "name": "python",
   "nbconvert_exporter": "python",
   "pygments_lexer": "ipython3",
   "version": "3.7.4"
  }
 },
 "nbformat": 4,
 "nbformat_minor": 4
}
